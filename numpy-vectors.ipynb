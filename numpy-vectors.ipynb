{
 "cells": [
  {
   "cell_type": "code",
   "execution_count": null,
   "metadata": {},
   "outputs": [],
   "source": [
    "import numpy as np"
   ]
  },
  {
   "cell_type": "markdown",
   "metadata": {},
   "source": [
    "#### Potenciales errores trabajando con arrays"
   ]
  },
  {
   "cell_type": "code",
   "execution_count": null,
   "metadata": {},
   "outputs": [],
   "source": [
    "a = np.random.randn(5) # Crea array de 5 elementos aleatorios de distribución normal, también llamado 1 rank array\n",
    "print(\"Tipo de dato: \", a.dtype)\n",
    "print(\"Shape: \", a.shape) # Notar que a.shape = (5,) y no (5,1) o (1,5)\n",
    "a"
   ]
  },
  {
   "cell_type": "code",
   "execution_count": null,
   "metadata": {},
   "outputs": [],
   "source": [
    "\"\"\"\n",
    "Notar que a es un vector de 5 elementos, no es un vector fila o columna, \n",
    "por lo que no se puede hacer operaciones de matriz con él.\n",
    "Ver que el vector solo es una lista de elementos, no tiene filas ni columnas.\n",
    "Notar que la cantidad total de corchetes es 2. No hay corchetes anidados.\n",
    "\"\"\"\n",
    "a.T  # Esto no dará error, pero no es lo que se espera, no obtenemos el vector transpuesto."
   ]
  },
  {
   "cell_type": "code",
   "execution_count": null,
   "metadata": {},
   "outputs": [],
   "source": [
    "# Por lo dicho anteriormente, esto no tendrá como resultado una matriz, sino un escalar.\n",
    "np.dot(a, a.T)"
   ]
  },
  {
   "cell_type": "markdown",
   "metadata": {},
   "source": [
    "No usar los 1 rank arrays (mostrados en las celdas arriba) para codear NN"
   ]
  },
  {
   "cell_type": "markdown",
   "metadata": {},
   "source": [
    "#### Estructura correcta de un vector"
   ]
  },
  {
   "cell_type": "code",
   "execution_count": null,
   "metadata": {},
   "outputs": [],
   "source": [
    "# Notar que ahora sí estamos obteniendo un vector columna, por lo que podemos hacer operaciones de matriz con él.\n",
    "b = np.random.randn(5, 1)\n",
    "print(\"Tipo de dato: \", b.dtype)\n",
    "print(\"Shape: \", b.shape)\n",
    "b"
   ]
  },
  {
   "cell_type": "code",
   "execution_count": null,
   "metadata": {},
   "outputs": [],
   "source": [
    "\"\"\"\n",
    "Ahora sí obtenemos la transpuesta como un vector fila.\n",
    "Notar que ahora sí tenemos un vector fila, con una fila y 5 columnas.\n",
    "Ver que la cantidad de corchetes totales son 4. Hay corchetes anidados.\n",
    "\"\"\"\n",
    "b.T"
   ]
  },
  {
   "cell_type": "code",
   "execution_count": null,
   "metadata": {},
   "outputs": [],
   "source": [
    "# Ahora si hacemos el producto escalar y obtenemos una matriz de 5x5.\n",
    "np.dot(b, b.T)"
   ]
  },
  {
   "cell_type": "markdown",
   "metadata": {},
   "source": [
    "#### Reshape 1 rank vector to column vector"
   ]
  },
  {
   "cell_type": "code",
   "execution_count": null,
   "metadata": {},
   "outputs": [],
   "source": [
    "a.reshape((5, 1)) # Esto tiene ahora la misma forma que b."
   ]
  }
 ],
 "metadata": {
  "kernelspec": {
   "display_name": "base",
   "language": "python",
   "name": "python3"
  },
  "language_info": {
   "codemirror_mode": {
    "name": "ipython",
    "version": 3
   },
   "file_extension": ".py",
   "mimetype": "text/x-python",
   "name": "python",
   "nbconvert_exporter": "python",
   "pygments_lexer": "ipython3",
   "version": "3.11.7"
  }
 },
 "nbformat": 4,
 "nbformat_minor": 2
}
