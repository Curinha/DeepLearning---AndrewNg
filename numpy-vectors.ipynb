{
 "cells": [
  {
   "cell_type": "code",
   "execution_count": 1,
   "metadata": {},
   "outputs": [],
   "source": [
    "import numpy as np"
   ]
  },
  {
   "cell_type": "markdown",
   "metadata": {},
   "source": [
    "#### Potenciales errores trabajando con arrays"
   ]
  },
  {
   "cell_type": "code",
   "execution_count": 4,
   "metadata": {},
   "outputs": [
    {
     "name": "stdout",
     "output_type": "stream",
     "text": [
      "Tipo de dato:  float64\n",
      "Shape:  (5,)\n"
     ]
    },
    {
     "data": {
      "text/plain": [
       "array([ 0.84181865, -1.50178156,  2.06881857, -0.79262136,  1.45637294])"
      ]
     },
     "execution_count": 4,
     "metadata": {},
     "output_type": "execute_result"
    }
   ],
   "source": [
    "a = np.random.randn(5) # Crea array de 5 elementos aleatorios de distribución normal\n",
    "print(\"Tipo de dato: \", a.dtype)\n",
    "print(\"Shape: \", a.shape)\n",
    "a"
   ]
  },
  {
   "cell_type": "code",
   "execution_count": 6,
   "metadata": {},
   "outputs": [
    {
     "data": {
      "text/plain": [
       "array([ 0.84181865, -1.50178156,  2.06881857, -0.79262136,  1.45637294])"
      ]
     },
     "execution_count": 6,
     "metadata": {},
     "output_type": "execute_result"
    }
   ],
   "source": [
    "\"\"\"Notar que a es un vector de 5 elementos, no es un vector fila o columna, \n",
    "    por lo que no se puede hacer operaciones de matriz con él.\"\"\"\n",
    "a.T  # Esto no dará error, pero no es lo que se espera, no obtenemos el vector transpuesto"
   ]
  },
  {
   "cell_type": "code",
   "execution_count": 7,
   "metadata": {},
   "outputs": [
    {
     "data": {
      "text/plain": [
       "9.993287529116161"
      ]
     },
     "execution_count": 7,
     "metadata": {},
     "output_type": "execute_result"
    }
   ],
   "source": [
    "# Por lo dicho anteriormente, esto no tendrá como resultado un vector, sino un escalar.\n",
    "np.dot(a, a.T)"
   ]
  },
  {
   "cell_type": "markdown",
   "metadata": {},
   "source": [
    "#### Estructura correcta de un vector"
   ]
  },
  {
   "cell_type": "code",
   "execution_count": 8,
   "metadata": {},
   "outputs": [
    {
     "name": "stdout",
     "output_type": "stream",
     "text": [
      "Tipo de dato:  float64\n",
      "Shape:  (5, 1)\n"
     ]
    },
    {
     "data": {
      "text/plain": [
       "array([[-0.60315309],\n",
       "       [-1.11081319],\n",
       "       [ 0.09742518],\n",
       "       [ 0.209728  ],\n",
       "       [ 0.88742794]])"
      ]
     },
     "execution_count": 8,
     "metadata": {},
     "output_type": "execute_result"
    }
   ],
   "source": [
    "# Notar que ahora sí estamos obteniendo un vector columna, por lo que podemos hacer operaciones de matriz con él.\n",
    "b = np.random.randn(5, 1)\n",
    "print(\"Tipo de dato: \", b.dtype)\n",
    "print(\"Shape: \", b.shape)\n",
    "b"
   ]
  }
 ],
 "metadata": {
  "kernelspec": {
   "display_name": "base",
   "language": "python",
   "name": "python3"
  },
  "language_info": {
   "codemirror_mode": {
    "name": "ipython",
    "version": 3
   },
   "file_extension": ".py",
   "mimetype": "text/x-python",
   "name": "python",
   "nbconvert_exporter": "python",
   "pygments_lexer": "ipython3",
   "version": "3.11.7"
  }
 },
 "nbformat": 4,
 "nbformat_minor": 2
}
